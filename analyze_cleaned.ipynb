{
 "cells": [
  {
   "attachments": {},
   "cell_type": "markdown",
   "metadata": {},
   "source": [
    "# Combined Imports"
   ]
  },
  {
   "cell_type": "code",
   "execution_count": 210,
   "metadata": {},
   "outputs": [],
   "source": [
    "import sys \n",
    "# Delete and then Utils Module to update content (needs to be optional)\n",
    "if sys.modules.keys().__contains__('utils'):\n",
    "    del sys.modules['utils']\n",
    "if sys.modules.keys().__contains__('const'):\n",
    "    del sys.modules['const']\n",
    "\n",
    "import const\n",
    "from utils import Utility\n",
    "from utils import OptimizerModel\n",
    "\n",
    "import maldi_learn.utilities as ml_utilities\n",
    "import maldi_learn.driams as ml_driams\n",
    "import maldi_learn.filters as ml_filters\n",
    "import pandas as pd\n",
    "import random\n",
    "from collections import Counter\n",
    "import time\n",
    "import numpy as np\n",
    "import matplotlib.pyplot as plt\n",
    "from os.path import exists\n",
    "import optuna\n",
    "import math\n",
    "from sklearn.model_selection import train_test_split\n",
    "from sklearn.model_selection import GridSearchCV\n",
    "from sklearn.model_selection import cross_val_score\n",
    "from sklearn.model_selection import StratifiedKFold\n",
    "from sklearn.model_selection import KFold\n",
    "\n",
    "from sklearn import tree\n",
    "from sklearn import dummy\n",
    "from sklearn import linear_model\n",
    "from sklearn.ensemble import RandomForestClassifier\n",
    "\n",
    "# different Metrics\n",
    "from sklearn import metrics\n",
    "from sklearn.metrics import accuracy_score\n",
    "from sklearn.metrics import balanced_accuracy_score\n",
    "from sklearn.metrics import confusion_matrix\n",
    "from sklearn.metrics import ConfusionMatrixDisplay\n",
    "from sklearn.metrics import precision_score\n",
    "from sklearn.metrics import recall_score\n",
    "from sklearn.metrics import precision_recall_curve\n",
    "from sklearn.metrics import RocCurveDisplay\n",
    "from sklearn.metrics import PrecisionRecallDisplay\n",
    "from sklearn.metrics import roc_auc_score\n",
    "from sklearn.metrics import roc_curve\n",
    "from sklearn.metrics import auc\n",
    "from sklearn.metrics import f1_score\n",
    "from sklearn.metrics import confusion_matrix\n",
    "\n",
    "\n",
    "from sklearn.pipeline import Pipeline\n",
    "from sklearn.cluster import KMeans\n",
    "from sklearn.decomposition import PCA\n",
    "from sklearn.preprocessing import StandardScaler\n",
    "\n",
    "\n",
    "import torch\n",
    "import torch.nn as nn\n",
    "import torch.nn.functional as F\n",
    "import torch.optim as optim_algo\n",
    "import torch.utils.data as data\n",
    "\n",
    "\n",
    "from optuna.samplers import RandomSampler\n",
    "#import torch.optim.lr_scheduler as lr_scheduler"
   ]
  },
  {
   "attachments": {},
   "cell_type": "markdown",
   "metadata": {},
   "source": [
    "# Preprocessing"
   ]
  },
  {
   "attachments": {},
   "cell_type": "markdown",
   "metadata": {},
   "source": [
    "## Parameters"
   ]
  },
  {
   "cell_type": "code",
   "execution_count": 186,
   "metadata": {},
   "outputs": [],
   "source": [
    "optim='aucroc'\n",
    "bacterial_species = const.SPECIES_SAUREUS # Escherichia coli, Klebsiella pneumoniae, Staphylococcus aureus\n",
    "bacterial_species_all = '*' # ALL species without filtering\n",
    "predicted_antibiotics_loaded = [const.ANTIBIOTIC_OXACILLIN]#,const.ANTIBIOTIC_MEROPENEM,const.ANTIBIOTIC_CIPROFLOXACIN,const.ANTIBIOTIC_PIPTAZ] #[const.ANTIBIOTIC_CEFTRIAXONE,const.ANTIBIOTIC_OXACILLIN] # Ciprofloxacin etc.\n",
    "predicted_antibiotic = const.ANTIBIOTIC_OXACILLIN\n",
    "binning = const.BINNING_6K # Which Binning is to be used? TODO: Implement usage of both\n",
    "if(binning==const.BINNING_6K):\n",
    "    n_bins=6000\n",
    "else:\n",
    "    n_bins=18000\n",
    "driams_dataset_label = const.DATASET_DRIAMSA # Which Dataset is to be used? TODO: Implement Functionality to use both"
   ]
  },
  {
   "attachments": {},
   "cell_type": "markdown",
   "metadata": {},
   "source": [
    "## Loading & Binning"
   ]
  },
  {
   "cell_type": "code",
   "execution_count": null,
   "metadata": {},
   "outputs": [],
   "source": [
    "# DRIAMS B\n",
    "X_train_multiple, y_train_multiple, X_test_multiple, y_test_multiple,driams_dataset = Utility.load_data(bacterial_species,predicted_antibiotics_loaded,'DRIAMS_B',['2018'],binning)"
   ]
  },
  {
   "cell_type": "code",
   "execution_count": 86,
   "metadata": {},
   "outputs": [],
   "source": [
    "# DRIAMS A\n",
    "X_train_multiple, y_train_multiple, X_test_multiple, y_test_multiple,driams_dataset = Utility.load_data(bacterial_species,predicted_antibiotics_loaded,'DRIAMS_A',['2015','2016','2017','2018'],binning)"
   ]
  },
  {
   "cell_type": "code",
   "execution_count": 87,
   "metadata": {},
   "outputs": [],
   "source": [
    "X_train =   None\n",
    "y_train =   None\n",
    "X_test  =   None\n",
    "y_test  =   None\n",
    "\n",
    "X_train = X_train_multiple[predicted_antibiotic]\n",
    "y_train = y_train_multiple[predicted_antibiotic]\n",
    "X_test = X_test_multiple[predicted_antibiotic]\n",
    "y_test = y_test_multiple[predicted_antibiotic]"
   ]
  },
  {
   "attachments": {},
   "cell_type": "markdown",
   "metadata": {},
   "source": [
    "## Scaling"
   ]
  },
  {
   "cell_type": "code",
   "execution_count": 88,
   "metadata": {},
   "outputs": [],
   "source": [
    "# TODO: Implement Scaler\n",
    "#scaler = StandardScaler()"
   ]
  },
  {
   "attachments": {},
   "cell_type": "markdown",
   "metadata": {},
   "source": [
    "## Initialization for ML"
   ]
  },
  {
   "cell_type": "code",
   "execution_count": 89,
   "metadata": {},
   "outputs": [],
   "source": [
    "# Baseline Models\n",
    "baseline_models = {}\n",
    "\n",
    "# Tensors\n",
    "X_train_tensor = {}\n",
    "y_train_tensor = {}\n",
    "train_dataset = {}\n",
    "\n",
    "for dataset_label in const.US_NO, const.US_RANDOM:\n",
    "    # Do Undersampling depending on dataset_label\n",
    "    X, y = Utility.select_undersampling_dataset(X_train,y_train,dataset_label)\n",
    "    baseline_models[dataset_label] = {}\n",
    "\n",
    "    # MLP AND CNN use tensors, because they are implemented through pytorch\n",
    "    # Initialize Tensors\n",
    "    X_train_tensor[dataset_label] = torch.FloatTensor(X)\n",
    "    y_train_tensor[dataset_label] = torch.LongTensor(y)\n",
    "    train_dataset[dataset_label] = data.TensorDataset(X_train_tensor[dataset_label],y_train_tensor[dataset_label] )\n",
    "    # Initialize Baseline OptimizerModels\n",
    "    for method in const.METHOD_DUMMY,const.METHOD_LR, const.METHOD_RFO, const.METHOD_TREE:\n",
    "        baseline_models[dataset_label][method] = OptimizerModel(dataset_label,method,X,y)\n",
    "\n",
    "# Initialize target Tensors\n",
    "X_test_tensor            = torch.FloatTensor(X_test)\n",
    "y_test_tensor            = torch.LongTensor(y_test)\n",
    "test_dataset             = data.TensorDataset(X_train_tensor[dataset_label],y_train_tensor[dataset_label])"
   ]
  },
  {
   "attachments": {},
   "cell_type": "markdown",
   "metadata": {},
   "source": [
    "# Classification/Hyperparameter Search"
   ]
  },
  {
   "attachments": {},
   "cell_type": "markdown",
   "metadata": {},
   "source": [
    "## Baseline Hyperparameter Optimization with CV"
   ]
  },
  {
   "cell_type": "code",
   "execution_count": 90,
   "metadata": {},
   "outputs": [],
   "source": [
    "def train_hyperparams(a_predicted_antibiotic,a_bacterial_species,a_set_label,a_driams_dataset_label,a_binning,a_baseline_models,a_method):\n",
    "    # File Identifier for saving and reloading Hyperparameters\n",
    "    file_id = Utility.create_file_identifier(a_predicted_antibiotic,a_bacterial_species,a_method,a_set_label,a_binning,a_driams_dataset_label)\n",
    "    # Current Model\n",
    "    current_model = a_baseline_models[a_set_label][a_method]        \n",
    "    # Calculate Best Params (5 Fold CV)\n",
    "    best_params = Utility.optimize(current_model)\n",
    "    # Set Best Params\n",
    "    current_model.set_best_params(best_params)\n",
    "    Utility.save_best_params(file_id,current_model.best_params)"
   ]
  },
  {
   "cell_type": "code",
   "execution_count": 91,
   "metadata": {},
   "outputs": [
    {
     "name": "stdout",
     "output_type": "stream",
     "text": [
      "{'strategy': 'uniform'}\n",
      "{'strategy': 'uniform'}\n"
     ]
    }
   ],
   "source": [
    "# Dummy Classifier\n",
    "for undersampling in baseline_models:\n",
    "    train_hyperparams(predicted_antibiotic,bacterial_species,undersampling,driams_dataset_label,binning,baseline_models,const.METHOD_DUMMY)\n",
    "    print(baseline_models[undersampling][const.METHOD_DUMMY].best_params)"
   ]
  },
  {
   "cell_type": "code",
   "execution_count": 92,
   "metadata": {},
   "outputs": [
    {
     "name": "stdout",
     "output_type": "stream",
     "text": [
      "{'class_weight': None, 'criterion': 'entropy', 'max_depth': 8, 'max_features': None}\n",
      "{'class_weight': None, 'criterion': 'entropy', 'max_depth': 8, 'max_features': None}\n"
     ]
    }
   ],
   "source": [
    "# Tree Classifier\n",
    "for undersampling in baseline_models:\n",
    "    train_hyperparams(predicted_antibiotic,bacterial_species,undersampling,driams_dataset_label,binning,baseline_models,const.METHOD_TREE)\n",
    "    print(baseline_models[undersampling][const.METHOD_TREE].best_params)"
   ]
  },
  {
   "cell_type": "code",
   "execution_count": 93,
   "metadata": {},
   "outputs": [
    {
     "name": "stderr",
     "output_type": "stream",
     "text": [
      "c:\\Users\\jonas\\anaconda3\\envs\\master-env\\lib\\site-packages\\sklearn\\linear_model\\_sag.py:350: ConvergenceWarning: The max_iter was reached which means the coef_ did not converge\n",
      "  warnings.warn(\n",
      "c:\\Users\\jonas\\anaconda3\\envs\\master-env\\lib\\site-packages\\sklearn\\linear_model\\_sag.py:350: ConvergenceWarning: The max_iter was reached which means the coef_ did not converge\n",
      "  warnings.warn(\n",
      "c:\\Users\\jonas\\anaconda3\\envs\\master-env\\lib\\site-packages\\sklearn\\linear_model\\_sag.py:350: ConvergenceWarning: The max_iter was reached which means the coef_ did not converge\n",
      "  warnings.warn(\n",
      "c:\\Users\\jonas\\anaconda3\\envs\\master-env\\lib\\site-packages\\sklearn\\linear_model\\_sag.py:350: ConvergenceWarning: The max_iter was reached which means the coef_ did not converge\n",
      "  warnings.warn(\n",
      "c:\\Users\\jonas\\anaconda3\\envs\\master-env\\lib\\site-packages\\sklearn\\linear_model\\_sag.py:350: ConvergenceWarning: The max_iter was reached which means the coef_ did not converge\n",
      "  warnings.warn(\n",
      "c:\\Users\\jonas\\anaconda3\\envs\\master-env\\lib\\site-packages\\sklearn\\linear_model\\_sag.py:350: ConvergenceWarning: The max_iter was reached which means the coef_ did not converge\n",
      "  warnings.warn(\n",
      "c:\\Users\\jonas\\anaconda3\\envs\\master-env\\lib\\site-packages\\sklearn\\linear_model\\_sag.py:350: ConvergenceWarning: The max_iter was reached which means the coef_ did not converge\n",
      "  warnings.warn(\n",
      "c:\\Users\\jonas\\anaconda3\\envs\\master-env\\lib\\site-packages\\sklearn\\linear_model\\_sag.py:350: ConvergenceWarning: The max_iter was reached which means the coef_ did not converge\n",
      "  warnings.warn(\n",
      "c:\\Users\\jonas\\anaconda3\\envs\\master-env\\lib\\site-packages\\sklearn\\linear_model\\_sag.py:350: ConvergenceWarning: The max_iter was reached which means the coef_ did not converge\n",
      "  warnings.warn(\n",
      "c:\\Users\\jonas\\anaconda3\\envs\\master-env\\lib\\site-packages\\sklearn\\linear_model\\_sag.py:350: ConvergenceWarning: The max_iter was reached which means the coef_ did not converge\n",
      "  warnings.warn(\n",
      "c:\\Users\\jonas\\anaconda3\\envs\\master-env\\lib\\site-packages\\sklearn\\linear_model\\_sag.py:350: ConvergenceWarning: The max_iter was reached which means the coef_ did not converge\n",
      "  warnings.warn(\n",
      "c:\\Users\\jonas\\anaconda3\\envs\\master-env\\lib\\site-packages\\sklearn\\linear_model\\_sag.py:350: ConvergenceWarning: The max_iter was reached which means the coef_ did not converge\n",
      "  warnings.warn(\n",
      "c:\\Users\\jonas\\anaconda3\\envs\\master-env\\lib\\site-packages\\sklearn\\linear_model\\_sag.py:350: ConvergenceWarning: The max_iter was reached which means the coef_ did not converge\n",
      "  warnings.warn(\n",
      "c:\\Users\\jonas\\anaconda3\\envs\\master-env\\lib\\site-packages\\sklearn\\linear_model\\_sag.py:350: ConvergenceWarning: The max_iter was reached which means the coef_ did not converge\n",
      "  warnings.warn(\n",
      "c:\\Users\\jonas\\anaconda3\\envs\\master-env\\lib\\site-packages\\sklearn\\linear_model\\_sag.py:350: ConvergenceWarning: The max_iter was reached which means the coef_ did not converge\n",
      "  warnings.warn(\n",
      "c:\\Users\\jonas\\anaconda3\\envs\\master-env\\lib\\site-packages\\sklearn\\linear_model\\_sag.py:350: ConvergenceWarning: The max_iter was reached which means the coef_ did not converge\n",
      "  warnings.warn(\n",
      "c:\\Users\\jonas\\anaconda3\\envs\\master-env\\lib\\site-packages\\sklearn\\linear_model\\_sag.py:350: ConvergenceWarning: The max_iter was reached which means the coef_ did not converge\n",
      "  warnings.warn(\n",
      "c:\\Users\\jonas\\anaconda3\\envs\\master-env\\lib\\site-packages\\sklearn\\linear_model\\_sag.py:350: ConvergenceWarning: The max_iter was reached which means the coef_ did not converge\n",
      "  warnings.warn(\n",
      "c:\\Users\\jonas\\anaconda3\\envs\\master-env\\lib\\site-packages\\sklearn\\linear_model\\_sag.py:350: ConvergenceWarning: The max_iter was reached which means the coef_ did not converge\n",
      "  warnings.warn(\n",
      "c:\\Users\\jonas\\anaconda3\\envs\\master-env\\lib\\site-packages\\sklearn\\linear_model\\_sag.py:350: ConvergenceWarning: The max_iter was reached which means the coef_ did not converge\n",
      "  warnings.warn(\n",
      "c:\\Users\\jonas\\anaconda3\\envs\\master-env\\lib\\site-packages\\sklearn\\linear_model\\_sag.py:350: ConvergenceWarning: The max_iter was reached which means the coef_ did not converge\n",
      "  warnings.warn(\n",
      "c:\\Users\\jonas\\anaconda3\\envs\\master-env\\lib\\site-packages\\sklearn\\linear_model\\_sag.py:350: ConvergenceWarning: The max_iter was reached which means the coef_ did not converge\n",
      "  warnings.warn(\n",
      "c:\\Users\\jonas\\anaconda3\\envs\\master-env\\lib\\site-packages\\sklearn\\linear_model\\_sag.py:350: ConvergenceWarning: The max_iter was reached which means the coef_ did not converge\n",
      "  warnings.warn(\n",
      "c:\\Users\\jonas\\anaconda3\\envs\\master-env\\lib\\site-packages\\sklearn\\linear_model\\_sag.py:350: ConvergenceWarning: The max_iter was reached which means the coef_ did not converge\n",
      "  warnings.warn(\n",
      "c:\\Users\\jonas\\anaconda3\\envs\\master-env\\lib\\site-packages\\sklearn\\linear_model\\_sag.py:350: ConvergenceWarning: The max_iter was reached which means the coef_ did not converge\n",
      "  warnings.warn(\n",
      "c:\\Users\\jonas\\anaconda3\\envs\\master-env\\lib\\site-packages\\sklearn\\linear_model\\_sag.py:350: ConvergenceWarning: The max_iter was reached which means the coef_ did not converge\n",
      "  warnings.warn(\n",
      "c:\\Users\\jonas\\anaconda3\\envs\\master-env\\lib\\site-packages\\sklearn\\linear_model\\_sag.py:350: ConvergenceWarning: The max_iter was reached which means the coef_ did not converge\n",
      "  warnings.warn(\n",
      "c:\\Users\\jonas\\anaconda3\\envs\\master-env\\lib\\site-packages\\sklearn\\linear_model\\_sag.py:350: ConvergenceWarning: The max_iter was reached which means the coef_ did not converge\n",
      "  warnings.warn(\n",
      "c:\\Users\\jonas\\anaconda3\\envs\\master-env\\lib\\site-packages\\sklearn\\linear_model\\_sag.py:350: ConvergenceWarning: The max_iter was reached which means the coef_ did not converge\n",
      "  warnings.warn(\n",
      "c:\\Users\\jonas\\anaconda3\\envs\\master-env\\lib\\site-packages\\sklearn\\linear_model\\_sag.py:350: ConvergenceWarning: The max_iter was reached which means the coef_ did not converge\n",
      "  warnings.warn(\n",
      "c:\\Users\\jonas\\anaconda3\\envs\\master-env\\lib\\site-packages\\sklearn\\linear_model\\_sag.py:350: ConvergenceWarning: The max_iter was reached which means the coef_ did not converge\n",
      "  warnings.warn(\n",
      "c:\\Users\\jonas\\anaconda3\\envs\\master-env\\lib\\site-packages\\sklearn\\linear_model\\_sag.py:350: ConvergenceWarning: The max_iter was reached which means the coef_ did not converge\n",
      "  warnings.warn(\n",
      "c:\\Users\\jonas\\anaconda3\\envs\\master-env\\lib\\site-packages\\sklearn\\linear_model\\_sag.py:350: ConvergenceWarning: The max_iter was reached which means the coef_ did not converge\n",
      "  warnings.warn(\n",
      "c:\\Users\\jonas\\anaconda3\\envs\\master-env\\lib\\site-packages\\sklearn\\linear_model\\_sag.py:350: ConvergenceWarning: The max_iter was reached which means the coef_ did not converge\n",
      "  warnings.warn(\n",
      "c:\\Users\\jonas\\anaconda3\\envs\\master-env\\lib\\site-packages\\sklearn\\linear_model\\_sag.py:350: ConvergenceWarning: The max_iter was reached which means the coef_ did not converge\n",
      "  warnings.warn(\n",
      "c:\\Users\\jonas\\anaconda3\\envs\\master-env\\lib\\site-packages\\sklearn\\linear_model\\_sag.py:350: ConvergenceWarning: The max_iter was reached which means the coef_ did not converge\n",
      "  warnings.warn(\n",
      "c:\\Users\\jonas\\anaconda3\\envs\\master-env\\lib\\site-packages\\sklearn\\linear_model\\_sag.py:350: ConvergenceWarning: The max_iter was reached which means the coef_ did not converge\n",
      "  warnings.warn(\n",
      "c:\\Users\\jonas\\anaconda3\\envs\\master-env\\lib\\site-packages\\sklearn\\linear_model\\_sag.py:350: ConvergenceWarning: The max_iter was reached which means the coef_ did not converge\n",
      "  warnings.warn(\n",
      "c:\\Users\\jonas\\anaconda3\\envs\\master-env\\lib\\site-packages\\sklearn\\linear_model\\_sag.py:350: ConvergenceWarning: The max_iter was reached which means the coef_ did not converge\n",
      "  warnings.warn(\n",
      "c:\\Users\\jonas\\anaconda3\\envs\\master-env\\lib\\site-packages\\sklearn\\linear_model\\_sag.py:350: ConvergenceWarning: The max_iter was reached which means the coef_ did not converge\n",
      "  warnings.warn(\n",
      "c:\\Users\\jonas\\anaconda3\\envs\\master-env\\lib\\site-packages\\sklearn\\linear_model\\_sag.py:350: ConvergenceWarning: The max_iter was reached which means the coef_ did not converge\n",
      "  warnings.warn(\n",
      "c:\\Users\\jonas\\anaconda3\\envs\\master-env\\lib\\site-packages\\sklearn\\linear_model\\_sag.py:350: ConvergenceWarning: The max_iter was reached which means the coef_ did not converge\n",
      "  warnings.warn(\n",
      "c:\\Users\\jonas\\anaconda3\\envs\\master-env\\lib\\site-packages\\sklearn\\linear_model\\_sag.py:350: ConvergenceWarning: The max_iter was reached which means the coef_ did not converge\n",
      "  warnings.warn(\n",
      "c:\\Users\\jonas\\anaconda3\\envs\\master-env\\lib\\site-packages\\sklearn\\linear_model\\_sag.py:350: ConvergenceWarning: The max_iter was reached which means the coef_ did not converge\n",
      "  warnings.warn(\n",
      "c:\\Users\\jonas\\anaconda3\\envs\\master-env\\lib\\site-packages\\sklearn\\linear_model\\_sag.py:350: ConvergenceWarning: The max_iter was reached which means the coef_ did not converge\n",
      "  warnings.warn(\n",
      "c:\\Users\\jonas\\anaconda3\\envs\\master-env\\lib\\site-packages\\sklearn\\linear_model\\_sag.py:350: ConvergenceWarning: The max_iter was reached which means the coef_ did not converge\n",
      "  warnings.warn(\n"
     ]
    },
    {
     "name": "stdout",
     "output_type": "stream",
     "text": [
      "{'C': 1000.0, 'class_weight': None, 'penalty': 'l1', 'solver': 'liblinear'}\n"
     ]
    },
    {
     "name": "stderr",
     "output_type": "stream",
     "text": [
      "c:\\Users\\jonas\\anaconda3\\envs\\master-env\\lib\\site-packages\\sklearn\\linear_model\\_sag.py:350: ConvergenceWarning: The max_iter was reached which means the coef_ did not converge\n",
      "  warnings.warn(\n",
      "c:\\Users\\jonas\\anaconda3\\envs\\master-env\\lib\\site-packages\\sklearn\\linear_model\\_sag.py:350: ConvergenceWarning: The max_iter was reached which means the coef_ did not converge\n",
      "  warnings.warn(\n",
      "c:\\Users\\jonas\\anaconda3\\envs\\master-env\\lib\\site-packages\\sklearn\\linear_model\\_sag.py:350: ConvergenceWarning: The max_iter was reached which means the coef_ did not converge\n",
      "  warnings.warn(\n",
      "c:\\Users\\jonas\\anaconda3\\envs\\master-env\\lib\\site-packages\\sklearn\\linear_model\\_sag.py:350: ConvergenceWarning: The max_iter was reached which means the coef_ did not converge\n",
      "  warnings.warn(\n",
      "c:\\Users\\jonas\\anaconda3\\envs\\master-env\\lib\\site-packages\\sklearn\\linear_model\\_sag.py:350: ConvergenceWarning: The max_iter was reached which means the coef_ did not converge\n",
      "  warnings.warn(\n",
      "c:\\Users\\jonas\\anaconda3\\envs\\master-env\\lib\\site-packages\\sklearn\\linear_model\\_sag.py:350: ConvergenceWarning: The max_iter was reached which means the coef_ did not converge\n",
      "  warnings.warn(\n",
      "c:\\Users\\jonas\\anaconda3\\envs\\master-env\\lib\\site-packages\\sklearn\\linear_model\\_sag.py:350: ConvergenceWarning: The max_iter was reached which means the coef_ did not converge\n",
      "  warnings.warn(\n",
      "c:\\Users\\jonas\\anaconda3\\envs\\master-env\\lib\\site-packages\\sklearn\\linear_model\\_sag.py:350: ConvergenceWarning: The max_iter was reached which means the coef_ did not converge\n",
      "  warnings.warn(\n",
      "c:\\Users\\jonas\\anaconda3\\envs\\master-env\\lib\\site-packages\\sklearn\\linear_model\\_sag.py:350: ConvergenceWarning: The max_iter was reached which means the coef_ did not converge\n",
      "  warnings.warn(\n",
      "c:\\Users\\jonas\\anaconda3\\envs\\master-env\\lib\\site-packages\\sklearn\\linear_model\\_sag.py:350: ConvergenceWarning: The max_iter was reached which means the coef_ did not converge\n",
      "  warnings.warn(\n",
      "c:\\Users\\jonas\\anaconda3\\envs\\master-env\\lib\\site-packages\\sklearn\\linear_model\\_sag.py:350: ConvergenceWarning: The max_iter was reached which means the coef_ did not converge\n",
      "  warnings.warn(\n",
      "c:\\Users\\jonas\\anaconda3\\envs\\master-env\\lib\\site-packages\\sklearn\\linear_model\\_sag.py:350: ConvergenceWarning: The max_iter was reached which means the coef_ did not converge\n",
      "  warnings.warn(\n",
      "c:\\Users\\jonas\\anaconda3\\envs\\master-env\\lib\\site-packages\\sklearn\\linear_model\\_sag.py:350: ConvergenceWarning: The max_iter was reached which means the coef_ did not converge\n",
      "  warnings.warn(\n",
      "c:\\Users\\jonas\\anaconda3\\envs\\master-env\\lib\\site-packages\\sklearn\\linear_model\\_sag.py:350: ConvergenceWarning: The max_iter was reached which means the coef_ did not converge\n",
      "  warnings.warn(\n",
      "c:\\Users\\jonas\\anaconda3\\envs\\master-env\\lib\\site-packages\\sklearn\\linear_model\\_sag.py:350: ConvergenceWarning: The max_iter was reached which means the coef_ did not converge\n",
      "  warnings.warn(\n",
      "c:\\Users\\jonas\\anaconda3\\envs\\master-env\\lib\\site-packages\\sklearn\\linear_model\\_sag.py:350: ConvergenceWarning: The max_iter was reached which means the coef_ did not converge\n",
      "  warnings.warn(\n",
      "c:\\Users\\jonas\\anaconda3\\envs\\master-env\\lib\\site-packages\\sklearn\\linear_model\\_sag.py:350: ConvergenceWarning: The max_iter was reached which means the coef_ did not converge\n",
      "  warnings.warn(\n",
      "c:\\Users\\jonas\\anaconda3\\envs\\master-env\\lib\\site-packages\\sklearn\\linear_model\\_sag.py:350: ConvergenceWarning: The max_iter was reached which means the coef_ did not converge\n",
      "  warnings.warn(\n",
      "c:\\Users\\jonas\\anaconda3\\envs\\master-env\\lib\\site-packages\\sklearn\\linear_model\\_sag.py:350: ConvergenceWarning: The max_iter was reached which means the coef_ did not converge\n",
      "  warnings.warn(\n",
      "c:\\Users\\jonas\\anaconda3\\envs\\master-env\\lib\\site-packages\\sklearn\\linear_model\\_sag.py:350: ConvergenceWarning: The max_iter was reached which means the coef_ did not converge\n",
      "  warnings.warn(\n",
      "c:\\Users\\jonas\\anaconda3\\envs\\master-env\\lib\\site-packages\\sklearn\\linear_model\\_sag.py:350: ConvergenceWarning: The max_iter was reached which means the coef_ did not converge\n",
      "  warnings.warn(\n",
      "c:\\Users\\jonas\\anaconda3\\envs\\master-env\\lib\\site-packages\\sklearn\\linear_model\\_sag.py:350: ConvergenceWarning: The max_iter was reached which means the coef_ did not converge\n",
      "  warnings.warn(\n",
      "c:\\Users\\jonas\\anaconda3\\envs\\master-env\\lib\\site-packages\\sklearn\\linear_model\\_sag.py:350: ConvergenceWarning: The max_iter was reached which means the coef_ did not converge\n",
      "  warnings.warn(\n",
      "c:\\Users\\jonas\\anaconda3\\envs\\master-env\\lib\\site-packages\\sklearn\\linear_model\\_sag.py:350: ConvergenceWarning: The max_iter was reached which means the coef_ did not converge\n",
      "  warnings.warn(\n",
      "c:\\Users\\jonas\\anaconda3\\envs\\master-env\\lib\\site-packages\\sklearn\\linear_model\\_sag.py:350: ConvergenceWarning: The max_iter was reached which means the coef_ did not converge\n",
      "  warnings.warn(\n",
      "c:\\Users\\jonas\\anaconda3\\envs\\master-env\\lib\\site-packages\\sklearn\\linear_model\\_sag.py:350: ConvergenceWarning: The max_iter was reached which means the coef_ did not converge\n",
      "  warnings.warn(\n",
      "c:\\Users\\jonas\\anaconda3\\envs\\master-env\\lib\\site-packages\\sklearn\\linear_model\\_sag.py:350: ConvergenceWarning: The max_iter was reached which means the coef_ did not converge\n",
      "  warnings.warn(\n",
      "c:\\Users\\jonas\\anaconda3\\envs\\master-env\\lib\\site-packages\\sklearn\\linear_model\\_sag.py:350: ConvergenceWarning: The max_iter was reached which means the coef_ did not converge\n",
      "  warnings.warn(\n",
      "c:\\Users\\jonas\\anaconda3\\envs\\master-env\\lib\\site-packages\\sklearn\\linear_model\\_sag.py:350: ConvergenceWarning: The max_iter was reached which means the coef_ did not converge\n",
      "  warnings.warn(\n",
      "c:\\Users\\jonas\\anaconda3\\envs\\master-env\\lib\\site-packages\\sklearn\\linear_model\\_sag.py:350: ConvergenceWarning: The max_iter was reached which means the coef_ did not converge\n",
      "  warnings.warn(\n",
      "c:\\Users\\jonas\\anaconda3\\envs\\master-env\\lib\\site-packages\\sklearn\\linear_model\\_sag.py:350: ConvergenceWarning: The max_iter was reached which means the coef_ did not converge\n",
      "  warnings.warn(\n",
      "c:\\Users\\jonas\\anaconda3\\envs\\master-env\\lib\\site-packages\\sklearn\\linear_model\\_sag.py:350: ConvergenceWarning: The max_iter was reached which means the coef_ did not converge\n",
      "  warnings.warn(\n",
      "c:\\Users\\jonas\\anaconda3\\envs\\master-env\\lib\\site-packages\\sklearn\\linear_model\\_sag.py:350: ConvergenceWarning: The max_iter was reached which means the coef_ did not converge\n",
      "  warnings.warn(\n",
      "c:\\Users\\jonas\\anaconda3\\envs\\master-env\\lib\\site-packages\\sklearn\\linear_model\\_sag.py:350: ConvergenceWarning: The max_iter was reached which means the coef_ did not converge\n",
      "  warnings.warn(\n",
      "c:\\Users\\jonas\\anaconda3\\envs\\master-env\\lib\\site-packages\\sklearn\\linear_model\\_sag.py:350: ConvergenceWarning: The max_iter was reached which means the coef_ did not converge\n",
      "  warnings.warn(\n",
      "c:\\Users\\jonas\\anaconda3\\envs\\master-env\\lib\\site-packages\\sklearn\\linear_model\\_sag.py:350: ConvergenceWarning: The max_iter was reached which means the coef_ did not converge\n",
      "  warnings.warn(\n",
      "c:\\Users\\jonas\\anaconda3\\envs\\master-env\\lib\\site-packages\\sklearn\\linear_model\\_sag.py:350: ConvergenceWarning: The max_iter was reached which means the coef_ did not converge\n",
      "  warnings.warn(\n",
      "c:\\Users\\jonas\\anaconda3\\envs\\master-env\\lib\\site-packages\\sklearn\\linear_model\\_sag.py:350: ConvergenceWarning: The max_iter was reached which means the coef_ did not converge\n",
      "  warnings.warn(\n",
      "c:\\Users\\jonas\\anaconda3\\envs\\master-env\\lib\\site-packages\\sklearn\\linear_model\\_sag.py:350: ConvergenceWarning: The max_iter was reached which means the coef_ did not converge\n",
      "  warnings.warn(\n",
      "c:\\Users\\jonas\\anaconda3\\envs\\master-env\\lib\\site-packages\\sklearn\\linear_model\\_sag.py:350: ConvergenceWarning: The max_iter was reached which means the coef_ did not converge\n",
      "  warnings.warn(\n"
     ]
    },
    {
     "name": "stdout",
     "output_type": "stream",
     "text": [
      "{'C': 1000.0, 'class_weight': None, 'penalty': 'l1', 'solver': 'liblinear'}\n"
     ]
    }
   ],
   "source": [
    "# Logistic Regression Classifier\n",
    "for undersampling in baseline_models:\n",
    "    train_hyperparams(predicted_antibiotic,bacterial_species,undersampling,driams_dataset_label,binning,baseline_models,const.METHOD_LR)\n",
    "    print(baseline_models[undersampling][const.METHOD_LR].best_params)"
   ]
  },
  {
   "cell_type": "code",
   "execution_count": 94,
   "metadata": {},
   "outputs": [
    {
     "name": "stdout",
     "output_type": "stream",
     "text": [
      "{'class_weight': None, 'criterion': 'entropy', 'max_features': 'sqrt', 'n_estimators': 1000}\n",
      "{'class_weight': None, 'criterion': 'entropy', 'max_features': 'sqrt', 'n_estimators': 1000}\n"
     ]
    }
   ],
   "source": [
    "# Random Forest Classifier\n",
    "for undersampling in baseline_models:\n",
    "    train_hyperparams(predicted_antibiotic,bacterial_species,undersampling,driams_dataset_label,binning,baseline_models,const.METHOD_RFO)\n",
    "    print(baseline_models[undersampling][const.METHOD_RFO].best_params)"
   ]
  },
  {
   "attachments": {},
   "cell_type": "markdown",
   "metadata": {},
   "source": [
    "## Baseline Classification"
   ]
  },
  {
   "cell_type": "code",
   "execution_count": 173,
   "metadata": {},
   "outputs": [
    {
     "name": "stderr",
     "output_type": "stream",
     "text": [
      "c:\\Users\\jonas\\anaconda3\\envs\\master-env\\lib\\site-packages\\sklearn\\linear_model\\_sag.py:350: ConvergenceWarning: The max_iter was reached which means the coef_ did not converge\n",
      "  warnings.warn(\n"
     ]
    }
   ],
   "source": [
    "# Train Final model for all Classifiers\n",
    "undersampling = const.US_RANDOM# const.US_RANDOM\n",
    "\n",
    "for method in baseline_models[undersampling]:\n",
    "    file_id = Utility.create_file_identifier(predicted_antibiotic,bacterial_species,method,undersampling,binning,driams_dataset_label)\n",
    "    current_model = baseline_models[undersampling][method]      \n",
    "\n",
    "    best_params = Utility.load_best_params(file_id)\n",
    "    # Set loaded Params\n",
    "    current_model.set_best_params(best_params)\n",
    "    # Predict actual Test Data with Best Params\n",
    "    y_test_pred,y_test_proba = Utility.predict_with_best(current_model,X_test)\n",
    "    # Set Predicted Labels to later compare them\n",
    "    current_model.set_predicted_labels(y_test_pred,y_test_proba)\n",
    "    # Save Values for next usage.\n",
    "    Utility.save_predictions(file_id,current_model.predicted_labels)\n",
    "    Utility.save_probas(file_id,current_model.predicted_probas)"
   ]
  },
  {
   "attachments": {},
   "cell_type": "markdown",
   "metadata": {},
   "source": [
    "## Models"
   ]
  },
  {
   "attachments": {},
   "cell_type": "markdown",
   "metadata": {},
   "source": [
    "### Final MLP Model"
   ]
  },
  {
   "cell_type": "code",
   "execution_count": 96,
   "metadata": {},
   "outputs": [],
   "source": [
    "# Class Definition for MLP\n",
    "class MLP_FINAL(nn.Module):\n",
    "    def __init__(self,optuna_trial, n_bins,parameters):\n",
    "        super().__init__()\n",
    "        output_dim = const.OUTPUT_DIM  # One\n",
    "        # Select or evaluate Hyperparameters #\n",
    "        if optuna_trial is not None and parameters is None: # Parameters not provided, let optuna create params\n",
    "            dropout = optuna_trial.suggest_float('dropout',0,0.5,step=0.5)\n",
    "            no_of_hiddenlayers = optuna_trial.suggest_int('no_of_hidden',1,3)\n",
    "            neuron_layer = {}\n",
    "            max_neurons = 500\n",
    "            for i in range(no_of_hiddenlayers):\n",
    "                min_neurons = (no_of_hiddenlayers-i)+1\n",
    "                neuron_layer[i] = optuna_trial.suggest_int('units_hiddenlayer'+str(i),min_neurons, max_neurons)\n",
    "                max_neurons= neuron_layer[i]            \n",
    "        if optuna_trial is None and parameters is not None: # Parameters are provided\n",
    "            dropout = parameters['dropout']\n",
    "            no_of_hiddenlayers = parameters['no_of_hidden']\n",
    "            neuron_layer = {}\n",
    "            for i in range(no_of_hiddenlayers):\n",
    "                neuron_layer[i] = parameters['units_hiddenlayer'+str(i)]\n",
    "        ########################################\n",
    "        # Initialize Network Architecture #\n",
    "        self.first_layer = nn.Linear(n_bins, neuron_layer[0])\n",
    "        self.first_dropout = nn.Dropout(p=dropout)\n",
    "        self.first_activation = nn.ReLU()\n",
    "\n",
    "        middle_layers = []\n",
    "        for i in range(1,no_of_hiddenlayers): # 1,2,3 for no_of_hiddenlayers = 4\n",
    "            middle_layers.append(nn.Linear(neuron_layer[i-1], neuron_layer[i]))\n",
    "            middle_layers.append(nn.Dropout(p=dropout))\n",
    "            middle_layers.append(nn.ReLU())\n",
    "            \n",
    "        self.middle_layers = nn.Sequential(*middle_layers)    \n",
    "        \n",
    "        self.final_layer = nn.Linear(neuron_layer[no_of_hiddenlayers-1], output_dim) # Last Hidden Layer output\n",
    "        self.final_dropout = nn.Dropout(p=dropout)\n",
    "        self.final_activation = nn.Sigmoid()\n",
    "        ########################################\n",
    "    # One Forward Pass through the network #\n",
    "    def forward(self, x):\n",
    "        x = self.first_layer(x)\n",
    "        x = self.first_dropout(x)\n",
    "        x = self.first_activation(x)\n",
    "        x = self.middle_layers(x)\n",
    "        x = self.final_layer(x)\n",
    "        x = self.final_dropout(x)\n",
    "        x = self.final_activation(x)\n",
    "        return x    "
   ]
  },
  {
   "attachments": {},
   "cell_type": "markdown",
   "metadata": {},
   "source": [
    "### Final CNN Model"
   ]
  },
  {
   "cell_type": "code",
   "execution_count": 97,
   "metadata": {},
   "outputs": [],
   "source": [
    "### Class CNN Definition\n",
    "class CNN_FINAL(nn.Module):\n",
    "    def __init__(self,optuna_trial,n_bins,parameters):\n",
    "        super().__init__()\n",
    "        output_dim = const.OUTPUT_DIM\n",
    "        ################################## Suggest Parameters #######################\n",
    "        if optuna_trial is not None and parameters is None: # Parameters not provided, let optuna create params\n",
    "            # Determine Params for Multilayer\n",
    "            initial_pooling = optuna_trial.suggest_categorical('initial_pooling',[True,False])\n",
    "            dropout_mlp = optuna_trial.suggest_float('dropout_mlp',0,0.5,step=0.5)\n",
    "            dropout_cnn = optuna_trial.suggest_float('dropout_cnn',0,0.2,step=0.2)\n",
    "            batchnorm = optuna_trial.suggest_categorical('initial_pooling',[True,False])\n",
    "            subsampling_strategy = optuna_trial.suggest_categorical('subsampling_strategy',['stride','pooling','both'])\n",
    "            if((subsampling_strategy=='pooling')|(subsampling_strategy=='both')):\n",
    "                pooling_size = optuna_trial.suggest_int('pooling_size',3,7,2)\n",
    "                pooling_stride = optuna_trial.suggest_categorical('pooling_stride',[2,None])\n",
    "            else:\n",
    "                pooling_size = 1\n",
    "                pooling_stride = 1\n",
    "            if((subsampling_strategy=='stride')|(subsampling_strategy=='both')):\n",
    "                stride = optuna_trial.suggest_categorical('stride',[2,3,5])\n",
    "            else:\n",
    "                stride = 1 \n",
    "\n",
    "            dense_neurons = optuna_trial.suggest_int('dense_neurons',1,500)        \n",
    "            no_of_cnnlayers = optuna_trial.suggest_int('no_of_cnnlayers',1,4)\n",
    "            filters = {}\n",
    "            kernel_sizes = {}\n",
    "            for i in range(no_of_cnnlayers):\n",
    "                filters[i] = optuna_trial.suggest_int('filter'+str(i),1, 128)\n",
    "                kernel_sizes[i] = optuna_trial.suggest_categorical('kernel_size'+str(i),[3,5,7,11,21,41])\n",
    "        \n",
    "        ################################## Use Parameters provided #######################\n",
    "        if optuna_trial is None and parameters is not None: # Parameters are provided\n",
    "            initial_pooling = parameters['initial_pooling']\n",
    "            dropout_mlp = parameters['dropout_mlp']\n",
    "            dropout_cnn = parameters['dropout_cnn']\n",
    "            batchnorm = parameters['batchnorm']\n",
    "            subsampling_strategy = parameters['subsampling_strategy']            \n",
    "            if((subsampling_strategy=='pooling')|(subsampling_strategy=='both')):\n",
    "                pooling_size = parameters['pooling_size']\n",
    "                pooling_stride = parameters['pooling_stride']\n",
    "            else:\n",
    "                pooling_size = 1\n",
    "                pooling_stride = 1\n",
    "            if((subsampling_strategy=='stride')|(subsampling_strategy=='both')):\n",
    "                stride = parameters['stride']\n",
    "            else:\n",
    "                stride = 1\n",
    "            dense_neurons = parameters['dense_neurons'] \n",
    "            no_of_cnnlayers = parameters['no_of_cnnlayers']\n",
    "            filters = {}\n",
    "            kernel_sizes = {}\n",
    "            for i in range(no_of_cnnlayers):\n",
    "                filters[i] = parameters['filter'+str(i)]\n",
    "                kernel_sizes[i] = parameters['kernel_size'+str(i)]\n",
    "\n",
    "        ########################### CNN Architecture ############################\n",
    "\n",
    "        activation=nn.ReLU()\n",
    "        pooling = nn.AvgPool1d(pooling_size,stride=pooling_stride,padding=pooling_size//pooling_stride)\n",
    "        dropout_cnn = nn.Dropout(p=dropout_cnn)\n",
    "        self.dropout_mlp = nn.Dropout(p=dropout_mlp)\n",
    "        \n",
    "        # Layers for Sequential\n",
    "        layers = []\n",
    "        # Initial Pooling\n",
    "        if(initial_pooling): \n",
    "            layers.append(nn.AvgPool1d(pooling_size,stride=pooling_stride,padding=pooling_size//pooling_stride))\n",
    "\n",
    "        # First CNN Layer\n",
    "        layers.append(nn.Conv1d(in_channels=1,out_channels=filters[0], kernel_size=kernel_sizes[0],stride=stride))\n",
    "        if(batchnorm):\n",
    "            layers.append(nn.BatchNorm1d(filters[0]))\n",
    "        layers.append(dropout_cnn)\n",
    "        layers.append(activation)\n",
    "        layers.append(pooling)\n",
    "\n",
    "        # Subsequent CNN Layers\n",
    "        for i in range(1,no_of_cnnlayers): # 1,2,3 for no_of_hiddenlayers = 4\n",
    "            layers.append(nn.Conv1d(in_channels=filters[i-no_of_cnnlayers],out_channels=filters[i], kernel_size=kernel_sizes[0],stride=stride))\n",
    "            if(batchnorm):\n",
    "                layers.append(nn.BatchNorm1d(filters[i]))\n",
    "            layers.append(dropout_cnn)\n",
    "            layers.append(activation)\n",
    "            layers.append(pooling)            \n",
    "        \n",
    "        # Add CNN Layers to Sequential\n",
    "        self.conv_layers = nn.Sequential(*layers)\n",
    "\n",
    "        # Create Random Tensor, to find out MLP Input\n",
    "        x = torch.randn(1,n_bins).view(-1,1,n_bins)\n",
    "        self._to_linear = None\n",
    "        self.convs(x)\n",
    "\n",
    "        # MLP Layer\n",
    "        self.mlp = nn.Linear(self._to_linear, dense_neurons)\n",
    "        # Output Layer\n",
    "        self.classifier = nn.Sequential(\n",
    "            nn.Linear(dense_neurons, output_dim),\n",
    "\t\t\tnn.Sigmoid(),\n",
    "\t\t)\n",
    "    # Apply Convolutions\n",
    "    def convs(self,x):\n",
    "        x=self.conv_layers(x)\n",
    "       \n",
    "        if self._to_linear is None:\n",
    "            self._to_linear = x[0].shape[0]*x[0].shape[1]\n",
    "        return x\n",
    "    # Forward Iteration through CNN\n",
    "    def forward(self, x):\n",
    "        x = self.convs(x)\n",
    "        x = x.view(-1, self._to_linear)  # Flatten by Applying View\n",
    "        x = F.relu(self.mlp(x))\n",
    "        x = self.dropout_mlp(x)\n",
    "        x = self.classifier(x)\n",
    "        return x"
   ]
  },
  {
   "attachments": {},
   "cell_type": "markdown",
   "metadata": {},
   "source": [
    "# Basic Methods for Training"
   ]
  },
  {
   "cell_type": "code",
   "execution_count": 211,
   "metadata": {},
   "outputs": [],
   "source": [
    "import logging\n",
    "from optuna.samplers import RandomSampler\n",
    "#import torch.optim.lr_scheduler as lr_scheduler\n",
    "\n",
    "def do_study(file_id,n_trials,load_study_flag,X_train,y_train,method,n_bins,model_class):\n",
    "    if(load_study_flag==False): # Create New study and do n_trials on it\n",
    "        try:\n",
    "            optuna.delete_study(study_name = file_id,storage='sqlite:///example.db')\n",
    "        except:\n",
    "            print('shit')\n",
    "        finally:\n",
    "            study= optuna.create_study(direction='maximize',study_name = file_id,storage='sqlite:///example.db')\n",
    "        study.optimize(lambda trial: optimize_py(trial,method, X_train,y_train,n_bins,model_class), n_trials=n_trials)\n",
    "        return study\n",
    "    elif(load_study_flag==True): # Load study and do as many trials so atleast n_trials total are done \n",
    "        try:\n",
    "            study= optuna.load_study(study_name = file_id, storage='sqlite:///example.db')\n",
    "        except:\n",
    "            study= optuna.create_study(direction='maximize',study_name = file_id,storage='sqlite:///example.db')\n",
    "        if(n_trials-len(study.trials)>0):\n",
    "            study.optimize(lambda trial: optimize_py(trial,method, X_train,y_train,n_bins,model_class), n_trials=n_trials-len(study.trials))\n",
    "        return study\n",
    "    \n",
    "def optimize_py(trial,method,X_train,y_train,n_bins,model_class):        \n",
    "    scores=[]\n",
    "    # Split Train Data\n",
    "    train_data, valid_data = Utility.split_dataset(X_train,y_train,True,trial.suggest_categorical(const.BATCH_SIZE,[4,8,16,32,64]))\n",
    "    for fold in train_data:\n",
    "        model,optimizer,criterion,device = initialize_model(n_bins,method,model_class,trial=trial)    \n",
    "        suggested_epochs=trial.suggest_int(const.EPOCHS,20,100)\n",
    "        weighted_flag=trial.suggest_categorical(const.WEIGHTED_FLAG,[True,False])\n",
    "        final_score, pred, proba, aucroc_scores,preds,probas,training_scores =  Utility.training_epochs(suggested_epochs,train_data[fold],valid_data[fold],model,optimizer,criterion,device,weighted_flag)\n",
    "        scores.append(final_score)\n",
    "    print(final_score)\n",
    "    return np.mean(scores)\n",
    "def initialize_model(n_bins,method,model_class,trial=None,best_params=None):\n",
    "    model = model_class(trial,n_bins,best_params)          \n",
    "    if trial is None:\n",
    "        learning_rate = best_params[const.LEARNING_RATE]\n",
    "    else:\n",
    "        # use logarithmic distribution for learning rate\n",
    "        learning_rate = trial.suggest_float(const.LEARNING_RATE, 1e-7, 1e-3, log=True)\n",
    "    \n",
    "    optimizer = optim_algo.Adam(model.parameters(),lr=learning_rate) # No scheduler currently\n",
    "\n",
    "    device = torch.device('cuda' if torch.cuda.is_available() else 'cpu') #\n",
    "    if(const.OUTPUT_DIM==1):\n",
    "        criterion = nn.BCELoss()\n",
    "    else:\n",
    "        raise ValueError(const.OUTPUT_DIM)\n",
    "    model = model.to(device)\n",
    "    criterion = criterion.to(device)\n",
    "    return model,optimizer,criterion,device\n",
    "def predict_with_best_py(best_params,train_iterator,test_iterator,n_bins,method,model_class):\n",
    "\n",
    "        # Initialize Model with given Method and Parameters\n",
    "        model,optimizer,criterion,device = initialize_model(n_bins,method,model_class,best_params=best_params)   \n",
    "        model_parameters = filter(lambda p: p.requires_grad, model.parameters())\n",
    "        print(sum([np.prod(p.size()) for p in model_parameters])) \n",
    "\n",
    "        # Calculate Shapley values\n",
    "        #explainer = shap.DeepExplainer(model,train_iterator)\n",
    "\n",
    "        # Train over given number of Epochs, with best Parameters\n",
    "        weighted_flag = best_params[const.WEIGHTED_FLAG]\n",
    "        aucroc, pred, proba, scores,preds,probas,training_scores = Utility.training_epochs(best_params[const.EPOCHS],train_iterator,test_iterator,model,optimizer,criterion,device,weighted_flag)\n",
    "\n",
    "        #shap_values = explainer(train_iterator)\n",
    "\n",
    "        # Return Predictions and Probabilities\n",
    "        return pred, proba, scores,preds,probas,training_scores\n",
    "        #return shap_values"
   ]
  },
  {
   "cell_type": "code",
   "execution_count": 208,
   "metadata": {},
   "outputs": [
    {
     "name": "stdout",
     "output_type": "stream",
     "text": [
      "2742\n",
      "669\n"
     ]
    }
   ],
   "source": [
    "print(len(y_train))\n",
    "print(len(y_test))"
   ]
  },
  {
   "attachments": {},
   "cell_type": "markdown",
   "metadata": {},
   "source": [
    "## Optimize MLP"
   ]
  },
  {
   "cell_type": "code",
   "execution_count": 212,
   "metadata": {},
   "outputs": [
    {
     "name": "stdout",
     "output_type": "stream",
     "text": [
      "shit\n"
     ]
    },
    {
     "name": "stderr",
     "output_type": "stream",
     "text": [
      "\u001b[32m[I 2023-05-30 14:51:00,087]\u001b[0m A new study created in RDB with name: Oxacillin_Staphylococcus aureus_not_undersampled_6k_DRIAMS_A_mlp_aucroc_eval\u001b[0m\n",
      "\u001b[32m[I 2023-05-30 14:51:52,187]\u001b[0m Trial 0 finished with value: 0.8966031943781412 and parameters: {'batch_size': 32, 'dropout': 0.0, 'no_of_hidden': 3, 'units_hiddenlayer0': 162, 'units_hiddenlayer1': 18, 'units_hiddenlayer2': 12, 'learning_rate': 0.0007286669492592939, 'epochs': 46, 'weighted_flag': True}. Best is trial 0 with value: 0.8966031943781412.\u001b[0m\n"
     ]
    },
    {
     "name": "stdout",
     "output_type": "stream",
     "text": [
      "0.9044715447154471\n",
      "0.8154398954703833\n"
     ]
    },
    {
     "name": "stderr",
     "output_type": "stream",
     "text": [
      "\u001b[32m[I 2023-05-30 14:54:40,814]\u001b[0m Trial 1 finished with value: 0.7996814566104751 and parameters: {'batch_size': 4, 'dropout': 0.5, 'no_of_hidden': 1, 'units_hiddenlayer0': 414, 'learning_rate': 0.00027649438536177847, 'epochs': 32, 'weighted_flag': False}. Best is trial 0 with value: 0.8966031943781412.\u001b[0m\n"
     ]
    },
    {
     "name": "stdout",
     "output_type": "stream",
     "text": [
      "0.5438443670150986\n"
     ]
    },
    {
     "name": "stderr",
     "output_type": "stream",
     "text": [
      "\u001b[32m[I 2023-05-30 14:55:29,833]\u001b[0m Trial 2 finished with value: 0.5333306605003039 and parameters: {'batch_size': 64, 'dropout': 0.0, 'no_of_hidden': 3, 'units_hiddenlayer0': 133, 'units_hiddenlayer1': 29, 'units_hiddenlayer2': 7, 'learning_rate': 1.5487163936570152e-06, 'epochs': 83, 'weighted_flag': False}. Best is trial 0 with value: 0.8966031943781412.\u001b[0m\n",
      "\u001b[32m[I 2023-05-30 14:56:58,899]\u001b[0m Trial 3 finished with value: 0.5333646871853719 and parameters: {'batch_size': 16, 'dropout': 0.0, 'no_of_hidden': 2, 'units_hiddenlayer0': 170, 'units_hiddenlayer1': 107, 'learning_rate': 2.6157670433910984e-06, 'epochs': 64, 'weighted_flag': False}. Best is trial 0 with value: 0.8966031943781412.\u001b[0m\n"
     ]
    },
    {
     "name": "stdout",
     "output_type": "stream",
     "text": [
      "0.538109756097561\n",
      "0.7159552845528455\n"
     ]
    },
    {
     "name": "stderr",
     "output_type": "stream",
     "text": [
      "\u001b[32m[I 2023-05-30 14:57:25,756]\u001b[0m Trial 4 finished with value: 0.6811726037612843 and parameters: {'batch_size': 64, 'dropout': 0.5, 'no_of_hidden': 1, 'units_hiddenlayer0': 312, 'learning_rate': 0.0001446475645324362, 'epochs': 49, 'weighted_flag': False}. Best is trial 0 with value: 0.8966031943781412.\u001b[0m\n",
      "\u001b[32m[I 2023-05-30 14:58:30,917]\u001b[0m Trial 5 finished with value: 0.5340631135281546 and parameters: {'batch_size': 64, 'dropout': 0.5, 'no_of_hidden': 3, 'units_hiddenlayer0': 236, 'units_hiddenlayer1': 36, 'units_hiddenlayer2': 14, 'learning_rate': 5.247789190657983e-06, 'epochs': 98, 'weighted_flag': False}. Best is trial 0 with value: 0.8966031943781412.\u001b[0m\n"
     ]
    },
    {
     "name": "stdout",
     "output_type": "stream",
     "text": [
      "0.5400878339140534\n",
      "0.7201655052264808\n"
     ]
    },
    {
     "name": "stderr",
     "output_type": "stream",
     "text": [
      "\u001b[32m[I 2023-05-30 15:01:14,798]\u001b[0m Trial 6 finished with value: 0.7181622072332259 and parameters: {'batch_size': 8, 'dropout': 0.5, 'no_of_hidden': 1, 'units_hiddenlayer0': 469, 'learning_rate': 4.6270150591501606e-05, 'epochs': 57, 'weighted_flag': False}. Best is trial 0 with value: 0.8966031943781412.\u001b[0m\n"
     ]
    },
    {
     "name": "stdout",
     "output_type": "stream",
     "text": [
      "0.6828179442508711\n"
     ]
    },
    {
     "name": "stderr",
     "output_type": "stream",
     "text": [
      "\u001b[32m[I 2023-05-30 15:01:40,825]\u001b[0m Trial 7 finished with value: 0.6297116882153121 and parameters: {'batch_size': 64, 'dropout': 0.5, 'no_of_hidden': 2, 'units_hiddenlayer0': 327, 'units_hiddenlayer1': 8, 'learning_rate': 0.00012560487779996162, 'epochs': 46, 'weighted_flag': False}. Best is trial 0 with value: 0.8966031943781412.\u001b[0m\n"
     ]
    },
    {
     "name": "stdout",
     "output_type": "stream",
     "text": [
      "0.5422473867595818\n"
     ]
    },
    {
     "name": "stderr",
     "output_type": "stream",
     "text": [
      "\u001b[32m[I 2023-05-30 15:03:19,190]\u001b[0m Trial 8 finished with value: 0.5382143017769843 and parameters: {'batch_size': 16, 'dropout': 0.0, 'no_of_hidden': 3, 'units_hiddenlayer0': 287, 'units_hiddenlayer1': 248, 'units_hiddenlayer2': 184, 'learning_rate': 2.0450868911136753e-06, 'epochs': 63, 'weighted_flag': False}. Best is trial 0 with value: 0.8966031943781412.\u001b[0m\n",
      "\u001b[32m[I 2023-05-30 15:04:05,944]\u001b[0m Trial 9 finished with value: 0.5436106374845986 and parameters: {'batch_size': 16, 'dropout': 0.0, 'no_of_hidden': 3, 'units_hiddenlayer0': 270, 'units_hiddenlayer1': 127, 'units_hiddenlayer2': 106, 'learning_rate': 1.0328774279328906e-07, 'epochs': 31, 'weighted_flag': False}. Best is trial 0 with value: 0.8966031943781412.\u001b[0m\n"
     ]
    },
    {
     "name": "stdout",
     "output_type": "stream",
     "text": [
      "0.6109356852497096\n"
     ]
    },
    {
     "name": "stderr",
     "output_type": "stream",
     "text": [
      "\u001b[32m[I 2023-05-30 15:04:27,242]\u001b[0m Trial 10 finished with value: 0.6984755721426119 and parameters: {'batch_size': 32, 'dropout': 0.0, 'no_of_hidden': 2, 'units_hiddenlayer0': 7, 'units_hiddenlayer1': 3, 'learning_rate': 0.0004294389673387849, 'epochs': 21, 'weighted_flag': True}. Best is trial 0 with value: 0.8966031943781412.\u001b[0m\n"
     ]
    },
    {
     "name": "stdout",
     "output_type": "stream",
     "text": [
      "0.7508892276422764\n",
      "0.8790287456445993\n"
     ]
    },
    {
     "name": "stderr",
     "output_type": "stream",
     "text": [
      "\u001b[32m[I 2023-05-30 15:08:13,327]\u001b[0m Trial 11 finished with value: 0.8621261832586846 and parameters: {'batch_size': 4, 'dropout': 0.5, 'no_of_hidden': 1, 'units_hiddenlayer0': 465, 'learning_rate': 0.0007180527466562057, 'epochs': 37, 'weighted_flag': True}. Best is trial 0 with value: 0.8966031943781412.\u001b[0m\n"
     ]
    },
    {
     "name": "stdout",
     "output_type": "stream",
     "text": [
      "0.8935648954703832\n"
     ]
    },
    {
     "name": "stderr",
     "output_type": "stream",
     "text": [
      "\u001b[32m[I 2023-05-30 15:11:20,131]\u001b[0m Trial 12 finished with value: 0.8687715918808842 and parameters: {'batch_size': 4, 'dropout': 0.0, 'no_of_hidden': 1, 'units_hiddenlayer0': 62, 'learning_rate': 0.00098608100234467, 'epochs': 40, 'weighted_flag': True}. Best is trial 0 with value: 0.8966031943781412.\u001b[0m\n"
     ]
    },
    {
     "name": "stdout",
     "output_type": "stream",
     "text": [
      "0.8967407084785134\n"
     ]
    },
    {
     "name": "stderr",
     "output_type": "stream",
     "text": [
      "\u001b[32m[I 2023-05-30 15:12:05,391]\u001b[0m Trial 13 finished with value: 0.8842209058483856 and parameters: {'batch_size': 32, 'dropout': 0.0, 'no_of_hidden': 2, 'units_hiddenlayer0': 35, 'units_hiddenlayer1': 16, 'learning_rate': 0.0009256626834561562, 'epochs': 46, 'weighted_flag': True}. Best is trial 0 with value: 0.8966031943781412.\u001b[0m\n"
     ]
    },
    {
     "name": "stdout",
     "output_type": "stream",
     "text": [
      "0.7467334494773519\n"
     ]
    },
    {
     "name": "stderr",
     "output_type": "stream",
     "text": [
      "\u001b[32m[I 2023-05-30 15:12:59,184]\u001b[0m Trial 14 finished with value: 0.7713781168863294 and parameters: {'batch_size': 32, 'dropout': 0.0, 'no_of_hidden': 2, 'units_hiddenlayer0': 108, 'units_hiddenlayer1': 32, 'learning_rate': 4.957444569747554e-05, 'epochs': 54, 'weighted_flag': True}. Best is trial 0 with value: 0.8966031943781412.\u001b[0m\n"
     ]
    },
    {
     "name": "stdout",
     "output_type": "stream",
     "text": [
      "0.5\n"
     ]
    },
    {
     "name": "stderr",
     "output_type": "stream",
     "text": [
      "\u001b[32m[I 2023-05-30 15:14:20,555]\u001b[0m Trial 15 finished with value: 0.6033267037222412 and parameters: {'batch_size': 32, 'dropout': 0.0, 'no_of_hidden': 2, 'units_hiddenlayer0': 4, 'units_hiddenlayer1': 2, 'learning_rate': 0.0006898941013895581, 'epochs': 80, 'weighted_flag': True}. Best is trial 0 with value: 0.8966031943781412.\u001b[0m\n"
     ]
    },
    {
     "name": "stdout",
     "output_type": "stream",
     "text": [
      "0.9010598141695702\n"
     ]
    },
    {
     "name": "stderr",
     "output_type": "stream",
     "text": [
      "\u001b[32m[I 2023-05-30 15:15:39,053]\u001b[0m Trial 16 finished with value: 0.8966471199688684 and parameters: {'batch_size': 32, 'dropout': 0.0, 'no_of_hidden': 3, 'units_hiddenlayer0': 196, 'units_hiddenlayer1': 59, 'units_hiddenlayer2': 26, 'learning_rate': 0.00019759820473574835, 'epochs': 71, 'weighted_flag': True}. Best is trial 16 with value: 0.8966471199688684.\u001b[0m\n"
     ]
    },
    {
     "name": "stdout",
     "output_type": "stream",
     "text": [
      "0.8220455865272938\n"
     ]
    },
    {
     "name": "stderr",
     "output_type": "stream",
     "text": [
      "\u001b[32m[I 2023-05-30 15:17:02,739]\u001b[0m Trial 17 finished with value: 0.8168011775778435 and parameters: {'batch_size': 32, 'dropout': 0.0, 'no_of_hidden': 3, 'units_hiddenlayer0': 201, 'units_hiddenlayer1': 65, 'units_hiddenlayer2': 28, 'learning_rate': 4.39771929903498e-05, 'epochs': 75, 'weighted_flag': True}. Best is trial 16 with value: 0.8966471199688684.\u001b[0m\n",
      "\u001b[32m[I 2023-05-30 15:21:16,043]\u001b[0m Trial 18 finished with value: 0.8929186562995868 and parameters: {'batch_size': 8, 'dropout': 0.0, 'no_of_hidden': 3, 'units_hiddenlayer0': 362, 'units_hiddenlayer1': 193, 'units_hiddenlayer2': 68, 'learning_rate': 0.00020887385392703297, 'epochs': 72, 'weighted_flag': True}. Best is trial 16 with value: 0.8966471199688684.\u001b[0m\n"
     ]
    },
    {
     "name": "stdout",
     "output_type": "stream",
     "text": [
      "0.9000072590011614\n",
      "0.774027293844367\n"
     ]
    },
    {
     "name": "stderr",
     "output_type": "stream",
     "text": [
      "\u001b[32m[I 2023-05-30 15:23:05,366]\u001b[0m Trial 19 finished with value: 0.7729481578547773 and parameters: {'batch_size': 32, 'dropout': 0.0, 'no_of_hidden': 3, 'units_hiddenlayer0': 195, 'units_hiddenlayer1': 69, 'units_hiddenlayer2': 27, 'learning_rate': 1.887907501566375e-05, 'epochs': 98, 'weighted_flag': True}. Best is trial 16 with value: 0.8966471199688684.\u001b[0m\n",
      "\u001b[32m[I 2023-05-30 15:24:45,842]\u001b[0m Trial 20 finished with value: 0.8966321813915566 and parameters: {'batch_size': 32, 'dropout': 0.0, 'no_of_hidden': 3, 'units_hiddenlayer0': 107, 'units_hiddenlayer1': 47, 'units_hiddenlayer2': 18, 'learning_rate': 0.0003271624096128993, 'epochs': 88, 'weighted_flag': True}. Best is trial 16 with value: 0.8966471199688684.\u001b[0m\n"
     ]
    },
    {
     "name": "stdout",
     "output_type": "stream",
     "text": [
      "0.9025479094076654\n"
     ]
    },
    {
     "name": "stderr",
     "output_type": "stream",
     "text": [
      "\u001b[32m[I 2023-05-30 15:26:26,170]\u001b[0m Trial 21 finished with value: 0.8994912129543307 and parameters: {'batch_size': 32, 'dropout': 0.0, 'no_of_hidden': 3, 'units_hiddenlayer0': 102, 'units_hiddenlayer1': 46, 'units_hiddenlayer2': 17, 'learning_rate': 0.00030504536596066216, 'epochs': 89, 'weighted_flag': True}. Best is trial 21 with value: 0.8994912129543307.\u001b[0m\n"
     ]
    },
    {
     "name": "stdout",
     "output_type": "stream",
     "text": [
      "0.9088269454123112\n",
      "0.9018583042973287\n"
     ]
    },
    {
     "name": "stderr",
     "output_type": "stream",
     "text": [
      "\u001b[32m[I 2023-05-30 15:28:05,080]\u001b[0m Trial 22 finished with value: 0.8942561739123358 and parameters: {'batch_size': 32, 'dropout': 0.0, 'no_of_hidden': 3, 'units_hiddenlayer0': 85, 'units_hiddenlayer1': 50, 'units_hiddenlayer2': 21, 'learning_rate': 0.0002747309379364895, 'epochs': 89, 'weighted_flag': True}. Best is trial 21 with value: 0.8994912129543307.\u001b[0m\n"
     ]
    },
    {
     "name": "stdout",
     "output_type": "stream",
     "text": [
      "0.881315331010453\n"
     ]
    },
    {
     "name": "stderr",
     "output_type": "stream",
     "text": [
      "\u001b[32m[I 2023-05-30 15:29:45,636]\u001b[0m Trial 23 finished with value: 0.861088413268817 and parameters: {'batch_size': 32, 'dropout': 0.0, 'no_of_hidden': 3, 'units_hiddenlayer0': 130, 'units_hiddenlayer1': 58, 'units_hiddenlayer2': 20, 'learning_rate': 8.040295674315628e-05, 'epochs': 89, 'weighted_flag': True}. Best is trial 21 with value: 0.8994912129543307.\u001b[0m\n",
      "\u001b[32m[I 2023-05-30 15:31:02,469]\u001b[0m Trial 24 finished with value: 0.8937286636498778 and parameters: {'batch_size': 32, 'dropout': 0.0, 'no_of_hidden': 3, 'units_hiddenlayer0': 228, 'units_hiddenlayer1': 86, 'units_hiddenlayer2': 41, 'learning_rate': 0.0002624782797551017, 'epochs': 69, 'weighted_flag': True}. Best is trial 21 with value: 0.8994912129543307.\u001b[0m\n"
     ]
    },
    {
     "name": "stdout",
     "output_type": "stream",
     "text": [
      "0.9038182346109176\n",
      "0.8817508710801393\n"
     ]
    },
    {
     "name": "stderr",
     "output_type": "stream",
     "text": [
      "\u001b[32m[I 2023-05-30 15:32:40,825]\u001b[0m Trial 25 finished with value: 0.861384288175091 and parameters: {'batch_size': 32, 'dropout': 0.0, 'no_of_hidden': 3, 'units_hiddenlayer0': 63, 'units_hiddenlayer1': 45, 'units_hiddenlayer2': 17, 'learning_rate': 0.00010531490859117696, 'epochs': 89, 'weighted_flag': True}. Best is trial 21 with value: 0.8994912129543307.\u001b[0m\n",
      "\u001b[32m[I 2023-05-30 15:36:31,319]\u001b[0m Trial 26 finished with value: 0.891060824245594 and parameters: {'batch_size': 8, 'dropout': 0.0, 'no_of_hidden': 2, 'units_hiddenlayer0': 152, 'units_hiddenlayer1': 71, 'learning_rate': 0.0004045215551368285, 'epochs': 81, 'weighted_flag': True}. Best is trial 21 with value: 0.8994912129543307.\u001b[0m\n"
     ]
    },
    {
     "name": "stdout",
     "output_type": "stream",
     "text": [
      "0.9042174796747968\n"
     ]
    },
    {
     "name": "stderr",
     "output_type": "stream",
     "text": [
      "\u001b[32m[I 2023-05-30 15:37:56,045]\u001b[0m Trial 27 finished with value: 0.8809649604547072 and parameters: {'batch_size': 32, 'dropout': 0.0, 'no_of_hidden': 3, 'units_hiddenlayer0': 101, 'units_hiddenlayer1': 44, 'units_hiddenlayer2': 28, 'learning_rate': 0.00014360720675484783, 'epochs': 76, 'weighted_flag': True}. Best is trial 21 with value: 0.8994912129543307.\u001b[0m\n"
     ]
    },
    {
     "name": "stdout",
     "output_type": "stream",
     "text": [
      "0.8961599883855982\n",
      "0.9025116144018582\n"
     ]
    },
    {
     "name": "stderr",
     "output_type": "stream",
     "text": [
      "\u001b[32m[I 2023-05-30 15:39:40,766]\u001b[0m Trial 28 finished with value: 0.8920541787324302 and parameters: {'batch_size': 32, 'dropout': 0.0, 'no_of_hidden': 3, 'units_hiddenlayer0': 196, 'units_hiddenlayer1': 96, 'units_hiddenlayer2': 46, 'learning_rate': 0.00041312488506177724, 'epochs': 94, 'weighted_flag': True}. Best is trial 21 with value: 0.8994912129543307.\u001b[0m\n"
     ]
    },
    {
     "name": "stdout",
     "output_type": "stream",
     "text": [
      "0.7771849593495935\n"
     ]
    },
    {
     "name": "stderr",
     "output_type": "stream",
     "text": [
      "\u001b[32m[I 2023-05-30 15:41:16,889]\u001b[0m Trial 29 finished with value: 0.7139831971859009 and parameters: {'batch_size': 32, 'dropout': 0.0, 'no_of_hidden': 3, 'units_hiddenlayer0': 167, 'units_hiddenlayer1': 74, 'units_hiddenlayer2': 5, 'learning_rate': 2.350634709118292e-05, 'epochs': 85, 'weighted_flag': True}. Best is trial 21 with value: 0.8994912129543307.\u001b[0m\n",
      "\u001b[32m[I 2023-05-30 15:42:27,017]\u001b[0m Trial 30 finished with value: 0.777660876492198 and parameters: {'batch_size': 32, 'dropout': 0.0, 'no_of_hidden': 2, 'units_hiddenlayer0': 63, 'units_hiddenlayer1': 40, 'learning_rate': 6.603671767871672e-05, 'epochs': 70, 'weighted_flag': True}. Best is trial 21 with value: 0.8994912129543307.\u001b[0m\n"
     ]
    },
    {
     "name": "stdout",
     "output_type": "stream",
     "text": [
      "0.7688008130081301\n",
      "0.8975391986062717\n"
     ]
    },
    {
     "name": "stderr",
     "output_type": "stream",
     "text": [
      "\u001b[32m[I 2023-05-30 15:52:07,668]\u001b[0m Trial 31 finished with value: 0.8917012750891319 and parameters: {'batch_size': 4, 'dropout': 0.0, 'no_of_hidden': 3, 'units_hiddenlayer0': 128, 'units_hiddenlayer1': 26, 'units_hiddenlayer2': 11, 'learning_rate': 0.0004486537029032675, 'epochs': 94, 'weighted_flag': True}. Best is trial 21 with value: 0.8994912129543307.\u001b[0m\n",
      "\u001b[32m[I 2023-05-30 15:53:20,848]\u001b[0m Trial 32 finished with value: 0.8766704617468977 and parameters: {'batch_size': 32, 'dropout': 0.0, 'no_of_hidden': 3, 'units_hiddenlayer0': 155, 'units_hiddenlayer1': 19, 'units_hiddenlayer2': 11, 'learning_rate': 0.00020129347125515655, 'epochs': 65, 'weighted_flag': True}. Best is trial 21 with value: 0.8994912129543307.\u001b[0m\n"
     ]
    },
    {
     "name": "stdout",
     "output_type": "stream",
     "text": [
      "0.8887921022067363\n",
      "0.900842044134727\n"
     ]
    },
    {
     "name": "stderr",
     "output_type": "stream",
     "text": [
      "\u001b[32m[I 2023-05-30 15:54:19,474]\u001b[0m Trial 33 finished with value: 0.8947769544395477 and parameters: {'batch_size': 32, 'dropout': 0.0, 'no_of_hidden': 3, 'units_hiddenlayer0': 213, 'units_hiddenlayer1': 121, 'units_hiddenlayer2': 41, 'learning_rate': 0.0005760429999571297, 'epochs': 52, 'weighted_flag': True}. Best is trial 21 with value: 0.8994912129543307.\u001b[0m\n",
      "\u001b[32m[I 2023-05-30 15:56:08,971]\u001b[0m Trial 34 finished with value: 0.8948052033719673 and parameters: {'batch_size': 16, 'dropout': 0.0, 'no_of_hidden': 3, 'units_hiddenlayer0': 101, 'units_hiddenlayer1': 61, 'units_hiddenlayer2': 22, 'learning_rate': 0.0002784856420879232, 'epochs': 59, 'weighted_flag': True}. Best is trial 21 with value: 0.8994912129543307.\u001b[0m\n"
     ]
    },
    {
     "name": "stdout",
     "output_type": "stream",
     "text": [
      "0.902293844367015\n"
     ]
    },
    {
     "name": "stderr",
     "output_type": "stream",
     "text": [
      "\u001b[32m[I 2023-05-30 15:57:23,790]\u001b[0m Trial 35 finished with value: 0.7363110769386124 and parameters: {'batch_size': 64, 'dropout': 0.5, 'no_of_hidden': 3, 'units_hiddenlayer0': 179, 'units_hiddenlayer1': 23, 'units_hiddenlayer2': 14, 'learning_rate': 0.00011709981499122511, 'epochs': 85, 'weighted_flag': True}. Best is trial 21 with value: 0.8994912129543307.\u001b[0m\n"
     ]
    },
    {
     "name": "stdout",
     "output_type": "stream",
     "text": [
      "0.7447916666666666\n",
      "0.9048707897793263\n"
     ]
    },
    {
     "name": "stderr",
     "output_type": "stream",
     "text": [
      "\u001b[32m[I 2023-05-30 16:01:40,932]\u001b[0m Trial 36 finished with value: 0.8923381894618846 and parameters: {'batch_size': 8, 'dropout': 0.0, 'no_of_hidden': 3, 'units_hiddenlayer0': 263, 'units_hiddenlayer1': 146, 'units_hiddenlayer2': 57, 'learning_rate': 0.0009825983327477364, 'epochs': 78, 'weighted_flag': True}. Best is trial 21 with value: 0.8994912129543307.\u001b[0m\n",
      "\u001b[32m[I 2023-05-30 16:02:57,277]\u001b[0m Trial 37 finished with value: 0.7932987583748232 and parameters: {'batch_size': 32, 'dropout': 0.5, 'no_of_hidden': 2, 'units_hiddenlayer0': 129, 'units_hiddenlayer1': 55, 'learning_rate': 0.00021195725842858523, 'epochs': 93, 'weighted_flag': False}. Best is trial 21 with value: 0.8994912129543307.\u001b[0m\n"
     ]
    },
    {
     "name": "stdout",
     "output_type": "stream",
     "text": [
      "0.8184523809523809\n",
      "0.5\n"
     ]
    },
    {
     "name": "stderr",
     "output_type": "stream",
     "text": [
      "\u001b[32m[I 2023-05-30 16:03:56,227]\u001b[0m Trial 38 finished with value: 0.7440135928979743 and parameters: {'batch_size': 64, 'dropout': 0.0, 'no_of_hidden': 3, 'units_hiddenlayer0': 38, 'units_hiddenlayer1': 14, 'units_hiddenlayer2': 2, 'learning_rate': 0.0005212341759227126, 'epochs': 66, 'weighted_flag': True}. Best is trial 21 with value: 0.8994912129543307.\u001b[0m\n"
     ]
    },
    {
     "name": "stdout",
     "output_type": "stream",
     "text": [
      "0.7981634727061556\n"
     ]
    },
    {
     "name": "stderr",
     "output_type": "stream",
     "text": [
      "\u001b[32m[I 2023-05-30 16:04:59,942]\u001b[0m Trial 39 finished with value: 0.7962924242638412 and parameters: {'batch_size': 16, 'dropout': 0.0, 'no_of_hidden': 3, 'units_hiddenlayer0': 243, 'units_hiddenlayer1': 113, 'units_hiddenlayer2': 32, 'learning_rate': 0.00015835890099591735, 'epochs': 42, 'weighted_flag': False}. Best is trial 21 with value: 0.8994912129543307.\u001b[0m\n"
     ]
    },
    {
     "name": "stdout",
     "output_type": "stream",
     "text": [
      "0.9064677700348432\n"
     ]
    },
    {
     "name": "stderr",
     "output_type": "stream",
     "text": [
      "\u001b[32m[I 2023-05-30 16:14:29,298]\u001b[0m Trial 40 finished with value: 0.9050737494707342 and parameters: {'batch_size': 4, 'dropout': 0.5, 'no_of_hidden': 2, 'units_hiddenlayer0': 318, 'units_hiddenlayer1': 292, 'learning_rate': 0.00030977581206584933, 'epochs': 99, 'weighted_flag': False}. Best is trial 40 with value: 0.9050737494707342.\u001b[0m\n",
      "\u001b[32m[I 2023-05-30 16:24:04,904]\u001b[0m Trial 41 finished with value: 0.9036923383926551 and parameters: {'batch_size': 4, 'dropout': 0.5, 'no_of_hidden': 2, 'units_hiddenlayer0': 315, 'units_hiddenlayer1': 302, 'learning_rate': 0.0002669631519314229, 'epochs': 100, 'weighted_flag': False}. Best is trial 40 with value: 0.9050737494707342.\u001b[0m\n"
     ]
    },
    {
     "name": "stdout",
     "output_type": "stream",
     "text": [
      "0.9032375145180024\n",
      "0.9095891405342624\n"
     ]
    },
    {
     "name": "stderr",
     "output_type": "stream",
     "text": [
      "\u001b[32m[I 2023-05-30 16:34:04,483]\u001b[0m Trial 42 finished with value: 0.9055698657244073 and parameters: {'batch_size': 4, 'dropout': 0.5, 'no_of_hidden': 2, 'units_hiddenlayer0': 354, 'units_hiddenlayer1': 326, 'learning_rate': 0.0003241358906879333, 'epochs': 100, 'weighted_flag': False}. Best is trial 42 with value: 0.9055698657244073.\u001b[0m\n"
     ]
    }
   ],
   "source": [
    "loadmlp = False # Variable for only loading or calculating new trials\n",
    "n_trials_mlp = 50 # Optuna Trials\n",
    "\n",
    "for dataset_label in const.US_NO,const.US_RANDOM:\n",
    "    name = Utility.create_file_identifier(predicted_antibiotic,bacterial_species,const.METHOD_MLP,dataset_label,binning,driams_dataset_label)\n",
    "    study_mlp= do_study(name,n_trials_mlp,loadmlp,X_train_tensor[dataset_label],y_train_tensor[dataset_label],const.METHOD_MLP,n_bins,MLP_FINAL) # create/load/do study, return best Params\n",
    "    Utility.save_best_params(name+'_'+str(len(study_mlp.trials))+'_trials',study_mlp.best_params)"
   ]
  },
  {
   "attachments": {},
   "cell_type": "markdown",
   "metadata": {},
   "source": [
    "## Optimize CNN"
   ]
  },
  {
   "cell_type": "code",
   "execution_count": null,
   "metadata": {},
   "outputs": [],
   "source": [
    "loadcnn = False # Variable for only loading or calculating new trials\n",
    "n_trials_cnn = 50 # Optuna Trials\n",
    "dataset_label = const.US_RANDOM# const.US_NO\n",
    "name = Utility.create_file_identifier(predicted_antibiotic,bacterial_species,'CNN_TRIAL',dataset_label,binning,driams_dataset_label)\n",
    "study_cnn= do_study(name,n_trials_mlp,loadcnn,X_train_tensor[dataset_label],y_train_tensor[dataset_label],const.METHOD_CNN,n_bins,CNN_FINAL) # create/load/do study, return best Params\n",
    "Utility.save_best_params(name+'_'+str(len(study_cnn.trials))+'_trials',study_cnn.best_params)"
   ]
  },
  {
   "attachments": {},
   "cell_type": "markdown",
   "metadata": {},
   "source": [
    "## Train MLP"
   ]
  },
  {
   "cell_type": "code",
   "execution_count": null,
   "metadata": {},
   "outputs": [],
   "source": [
    "no_trials=50\n",
    "predictions_mlp = {}\n",
    "dataset_label = const.US_NO\n",
    "name = Utility.create_file_identifier(predicted_antibiotic,bacterial_species,const.METHOD_MLP,dataset_label,binning,driams_dataset_label)\n",
    "# Predict actual Test Data with Best Params\n",
    "best_params = Utility.load_best_params(name+'_'+str(no_trials)+'_trials')\n",
    "\n",
    "# Create Train and Test Iterators with determined Batch Size\n",
    "train_iterator = Utility.create_iterator(X_train_tensor[dataset_label],y_train_tensor[dataset_label],True,best_params[const.BATCH_SIZE])\n",
    "test_iterator = Utility.create_iterator(X_test_tensor,y_test_tensor,False)\n",
    "pred,proba,scores,preds,probas,training_scores = predict_with_best_py(best_params,train_iterator,test_iterator,n_bins,const.METHOD_MLP,MLP_FINAL)\n",
    "# Calculate labels (1 or 0)\n",
    "predictions_mlp[const.BEST_PARAMS] = best_params\n",
    "# save probas to dict\n",
    "predictions_mlp[const.PREDICTIONS]= pred.cpu().detach().numpy()\n",
    "predictions_mlp[const.PROBABILITIES]= proba.cpu().detach().numpy()\n",
    "predictions_mlp[const.LOSSES] = scores\n",
    "predictions_mlp['training_aucroc'] = training_scores  \n",
    "predictions_mlp[const.BEST_PREDS] = preds[np.argmax(training_scores)].cpu().detach().numpy()\n",
    "predictions_mlp[const.BEST_PROBAS] = probas[np.argmax(training_scores)].cpu().detach().numpy()\n",
    "\n",
    "Utility.save_predictions(name,predictions_mlp[const.PREDICTIONS])\n",
    "Utility.save_losses(name,predictions_mlp[const.LOSSES])\n",
    "Utility.save_probas(name,predictions_mlp[const.PROBABILITIES])"
   ]
  },
  {
   "attachments": {},
   "cell_type": "markdown",
   "metadata": {},
   "source": [
    "# Evaluation"
   ]
  },
  {
   "cell_type": "code",
   "execution_count": 111,
   "metadata": {},
   "outputs": [
    {
     "name": "stdout",
     "output_type": "stream",
     "text": [
      "pos_class ratio  tree  =  0.08071748878923767\n",
      "pos_class ratio  dummy  =  0.49327354260089684\n",
      "pos_class ratio  rfo  =  0.0\n",
      "pos_class ratio  logreg  =  0.29596412556053814\n",
      "pos_class ratio  mlp  =  0.2825112107623318\n",
      "true ratio 0.11210762331838565\n"
     ]
    }
   ],
   "source": [
    "# Ratio of Positive Predictions compared to Ratio of True Positive labels\n",
    "len_pred = len(y_test)\n",
    "pos_class={\n",
    "    const.METHOD_TREE: np.count_nonzero(baseline_models[const.US_NO][const.METHOD_TREE].predicted_labels==1),\n",
    "    const.METHOD_DUMMY: np.count_nonzero(baseline_models[const.US_NO][const.METHOD_DUMMY].predicted_labels==1),\n",
    "    const.METHOD_RFO: np.count_nonzero(baseline_models[const.US_NO][const.METHOD_RFO].predicted_labels==1),\n",
    "    const.METHOD_LR: np.count_nonzero(baseline_models[const.US_NO][const.METHOD_LR].predicted_labels==1),\n",
    "    const.METHOD_MLP: np.count_nonzero(predictions_mlp[const.PREDICTIONS]==1),\n",
    "    #const.METHOD_CNN: np.count_nonzero(predictions_cnn_fast[const.PREDICTIONS]==1)\n",
    "}\n",
    "for method in pos_class:\n",
    "    print(\"pos_class ratio \",method,\" = \",pos_class[method]/float(len_pred))\n",
    "print(\"true ratio\",str(np.count_nonzero(y_test)/float(len(y_test))))"
   ]
  },
  {
   "attachments": {},
   "cell_type": "markdown",
   "metadata": {},
   "source": [
    "## AUROC"
   ]
  },
  {
   "cell_type": "code",
   "execution_count": 182,
   "metadata": {},
   "outputs": [
    {
     "data": {
      "image/png": "[encoded data removed]",
      "text/plain": [
       "<Figure size 640x480 with 1 Axes>"
      ]
     },
     "metadata": {},
     "output_type": "display_data"
    }
   ],
   "source": [
    "undersample_label= const.US_NO\n",
    "y_probas={\n",
    "    #const.METHOD_CNN: predictions_cnn_fast[const.PROBABILITIES],\n",
    "    const.METHOD_MLP: predictions_mlp[const.PROBABILITIES],\n",
    "    const.METHOD_DUMMY: baseline_models[undersample_label][const.METHOD_DUMMY].predicted_probas[:,1],\n",
    "    const.METHOD_LR: baseline_models[undersample_label][const.METHOD_LR].predicted_probas[:,1],\n",
    "    const.METHOD_RFO: baseline_models[undersample_label][const.METHOD_RFO].predicted_probas[:,1],\n",
    "    const.METHOD_TREE: baseline_models[undersample_label][const.METHOD_TREE].predicted_probas[:,1]\n",
    "}\n",
    "Utility.plot_auc_roc(y_test,y_probas,undersample_label,bacterial_species,predicted_antibiotic)    "
   ]
  },
  {
   "attachments": {},
   "cell_type": "markdown",
   "metadata": {},
   "source": [
    "## AUPRC"
   ]
  },
  {
   "cell_type": "code",
   "execution_count": 183,
   "metadata": {},
   "outputs": [
    {
     "data": {
      "image/png": "[encoded data removed]",
      "text/plain": [
       "<Figure size 640x480 with 1 Axes>"
      ]
     },
     "metadata": {},
     "output_type": "display_data"
    }
   ],
   "source": [
    "undersample_label= const.US_NO\n",
    "y_probas={\n",
    "    #const.METHOD_CNN: predictions_cnn_fast[const.PROBABILITIES],\n",
    "    const.METHOD_MLP: predictions_mlp[const.PROBABILITIES],\n",
    "    const.METHOD_DUMMY: baseline_models[undersample_label][const.METHOD_DUMMY].predicted_probas[:,1],\n",
    "    const.METHOD_LR: baseline_models[undersample_label][const.METHOD_LR].predicted_probas[:,1],\n",
    "    const.METHOD_RFO: baseline_models[undersample_label][const.METHOD_RFO].predicted_probas[:,1],\n",
    "    const.METHOD_TREE: baseline_models[undersample_label][const.METHOD_TREE].predicted_probas[:,1]\n",
    "}\n",
    "Utility.plot_auc_prc(y_test,y_probas,undersample_label,bacterial_species,predicted_antibiotic)  "
   ]
  }
 ],
 "metadata": {
  "kernelspec": {
   "display_name": "master-env",
   "language": "python",
   "name": "master-env"
  },
  "language_info": {
   "codemirror_mode": {
    "name": "ipython",
    "version": 3
   },
   "file_extension": ".py",
   "mimetype": "text/x-python",
   "name": "python",
   "nbconvert_exporter": "python",
   "pygments_lexer": "ipython3",
   "version": "3.10.9"
  },
  "orig_nbformat": 4
 },
 "nbformat": 4,
 "nbformat_minor": 2
}
